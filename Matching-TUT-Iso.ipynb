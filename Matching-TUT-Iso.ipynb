{
 "cells": [
  {
   "cell_type": "markdown",
   "metadata": {},
   "source": [
    "# Matching files between the TUT and Isophonics\n",
    "\n",
    "In this notebook, we create create a system for matching the two Beatles datasets. To do this, we create two `.csv` files that list the Beatles `.jams` files from TUT and Isophonics in the same order. \n",
    "\n",
    "A few notes: \n",
    "* Paths are hard coded, and as such, you will need to update these on your own machine for this notebook to run\""
   ]
  },
  {
   "cell_type": "markdown",
   "metadata": {},
   "source": [
    "#### Set Up\n",
    "\n",
    "In this section, we import the require python packages as well as define variables with the relevant directory structures. "
   ]
  },
  {
   "cell_type": "code",
   "execution_count": null,
   "metadata": {},
   "outputs": [],
   "source": [
    "import os \n",
    "import numpy\n"
   ]
  },
  {
   "cell_type": "code",
   "execution_count": null,
   "metadata": {},
   "outputs": [],
   "source": [
    "dir_name = \"/Users/kkinnaird/Documents/Research/R-Music/Brian-AHE/jams-data/datasets/\"\n",
    "\n",
    "tut_dir = dir_name + \"BeatlesTUT/\"\n",
    "iso_dir = dir_name + \"Isophonics/The Beatles/\""
   ]
  },
  {
   "cell_type": "markdown",
   "metadata": {},
   "source": [
    "### Understanding the directories\n",
    "\n",
    "The two datasets are set-up differently. The Isophonics data has subdirectories for each CD, while the TUT data has no subdirectories instead listing all songs in one directory. The below blocks show quick explorations of these differences:"
   ]
  },
  {
   "cell_type": "code",
   "execution_count": null,
   "metadata": {},
   "outputs": [],
   "source": [
    "# List of the CDs inside the Isophonics data directory\n",
    "\n",
    "iso_cd_list = os.listdir(iso_dir)"
   ]
  },
  {
   "cell_type": "code",
   "execution_count": null,
   "metadata": {},
   "outputs": [],
   "source": [
    "print(iso_cd_list)"
   ]
  },
  {
   "cell_type": "code",
   "execution_count": null,
   "metadata": {},
   "outputs": [],
   "source": [
    "# List of songs in TUT data directory\n",
    "\n",
    "tut_list = os.listdir(tut_dir)"
   ]
  },
  {
   "cell_type": "code",
   "execution_count": null,
   "metadata": {
    "scrolled": true
   },
   "outputs": [],
   "source": [
    "tut_list"
   ]
  },
  {
   "cell_type": "markdown",
   "metadata": {},
   "source": [
    "### First pass at matching \n",
    "\n",
    "We will match songs between the two directories in two passes. In the first pass, we use string matching on the song titles to automatically match tracks. For the tracks not matched in the first pass, we will match these through a manual process. \n",
    "\n",
    "Below is the code for the first pass. As a reminder, we are building two lists with the tracks in the same order. "
   ]
  },
  {
   "cell_type": "code",
   "execution_count": null,
   "metadata": {},
   "outputs": [],
   "source": [
    "# Initialize the lists for comparison\n",
    "tut_files = []\n",
    "iso_files = []\n",
    "\n",
    "# Keep track of the files that do not have a match through direct string matching\n",
    "iso_files_2_match = []\n",
    "\n",
    "for subdir in os.listdir(iso_dir):\n",
    "    for filename in os.listdir(iso_dir + subdir + \"/\"):\n",
    "        # Select a track\n",
    "        \n",
    "        # write out the full track name with the CD that it is on (which is the \n",
    "        # subdirectory name in the ISO file organization)\n",
    "        iso_filename = subdir + \"/\" + filename\n",
    "        \n",
    "        # Two CDs have a leading set of characters that do not exist in TUT\n",
    "        # Removing this preamble allows for more tracks to be matched automatically\n",
    "        if filename[0] == \"C\":\n",
    "            filename = filename[6:]\n",
    "        \n",
    "        # Check for the query track name in the TUT list\n",
    "        # If the track is in TUT, add both track names to their respective lists\n",
    "        # If not, add the ISO track name to the files to match in the next phase\n",
    "        if filename in tut_list:\n",
    "            ind = tut_list.index(filename)\n",
    "            tut_files.append(tut_list[ind])\n",
    "            \n",
    "            iso_files.append(iso_filename)\n",
    "        else:\n",
    "            iso_files_2_match.append(iso_filename)"
   ]
  },
  {
   "cell_type": "markdown",
   "metadata": {},
   "source": [
    "The below 4 blocks check the number of files that each directory in total and how many were matched. "
   ]
  },
  {
   "cell_type": "code",
   "execution_count": null,
   "metadata": {},
   "outputs": [],
   "source": [
    "len(iso_files)"
   ]
  },
  {
   "cell_type": "code",
   "execution_count": null,
   "metadata": {},
   "outputs": [],
   "source": [
    "len(tut_list)"
   ]
  },
  {
   "cell_type": "code",
   "execution_count": null,
   "metadata": {},
   "outputs": [],
   "source": [
    "len(iso_files_2_match)"
   ]
  },
  {
   "cell_type": "code",
   "execution_count": null,
   "metadata": {},
   "outputs": [],
   "source": [
    "len(tut_files)"
   ]
  },
  {
   "cell_type": "markdown",
   "metadata": {},
   "source": [
    "### Manual Matching \n",
    "\n",
    "The first pass on matching tracks were matched automatically using string matchings. The were 11 more files in the Isophonics dataset that were not matched to files in the TUT dataset using automatic string matching. For these 11 files, we examine each one and manually seek a match. \n",
    "\n",
    "We are able to match 5 of these to files in the TUT set. These pairs were not matched in the first phase due to small differences in spelling (such as *Lizzy* vs *Lizzie*) or misspellings (such as *Trough* instead of *Through*)"
   ]
  },
  {
   "cell_type": "code",
   "execution_count": null,
   "metadata": {},
   "outputs": [],
   "source": [
    "iso_files_2_match"
   ]
  },
  {
   "cell_type": "code",
   "execution_count": null,
   "metadata": {},
   "outputs": [],
   "source": [
    "iso_files.append(iso_files_2_match[2])\n",
    "tut_files.append(\"13_-_She_Came_In_Trough_The_Bathroom_Window.jams\")"
   ]
  },
  {
   "cell_type": "code",
   "execution_count": null,
   "metadata": {},
   "outputs": [],
   "source": [
    "iso_files.append(iso_files_2_match[3])\n",
    "tut_files.append(\"14_-_Dizzy_Miss_Lizzie.jams\")"
   ]
  },
  {
   "cell_type": "code",
   "execution_count": null,
   "metadata": {},
   "outputs": [],
   "source": [
    "iso_files.append(iso_files_2_match[4])\n",
    "tut_files.append(\"06_-_You're_Going_to_Lose_That_Girl.jams\")"
   ]
  },
  {
   "cell_type": "code",
   "execution_count": null,
   "metadata": {},
   "outputs": [],
   "source": [
    "iso_files.append(iso_files_2_match[7])\n",
    "tut_files.append(\"06_-The_Continuing_Story_of_Bungalow_Bill.jams\")"
   ]
  },
  {
   "cell_type": "code",
   "execution_count": null,
   "metadata": {},
   "outputs": [],
   "source": [
    "iso_files.append(iso_files_2_match[9])\n",
    "tut_files.append(\"04_-_Everybody's_Got_Something_To_Hide_Except_Me_and_M.jams\")"
   ]
  },
  {
   "cell_type": "code",
   "execution_count": null,
   "metadata": {
    "scrolled": true
   },
   "outputs": [],
   "source": [
    "iso_files"
   ]
  },
  {
   "cell_type": "code",
   "execution_count": null,
   "metadata": {
    "scrolled": true
   },
   "outputs": [],
   "source": [
    "tut_files"
   ]
  },
  {
   "cell_type": "code",
   "execution_count": null,
   "metadata": {},
   "outputs": [],
   "source": [
    "# Remove the manually matched files from the \"To be matched\" list\n",
    "\n",
    "for i in [9,7,4,3,2]:\n",
    "    iso_files_2_match.pop(i)"
   ]
  },
  {
   "cell_type": "code",
   "execution_count": null,
   "metadata": {},
   "outputs": [],
   "source": [
    "iso_files_2_match"
   ]
  },
  {
   "cell_type": "markdown",
   "metadata": {},
   "source": [
    "### Saving the results\n",
    "\n",
    "Create two files that each save one of our created lists. "
   ]
  },
  {
   "cell_type": "code",
   "execution_count": null,
   "metadata": {},
   "outputs": [],
   "source": [
    "save_dir = \"/Users/kkinnaird/Documents/Research/R-Music/Brian-AHE/\" \n",
    "numpy.savetxt(\"iso_file_list.csv\", iso_files, fmt=\"%s\", delimiter=\",\")\n",
    "numpy.savetxt(\"tut_file_list.csv\", tut_files, fmt=\"%s\")"
   ]
  },
  {
   "cell_type": "markdown",
   "metadata": {},
   "source": [
    "### Post-processing step\n",
    "\n",
    "Three of the files have commas in the titles. This means that you need to hand-edit three rows in each file to get the correct name in the first cell. "
   ]
  }
 ],
 "metadata": {
  "kernelspec": {
   "display_name": "Python 3",
   "language": "python",
   "name": "python3"
  },
  "language_info": {
   "codemirror_mode": {
    "name": "ipython",
    "version": 3
   },
   "file_extension": ".py",
   "mimetype": "text/x-python",
   "name": "python",
   "nbconvert_exporter": "python",
   "pygments_lexer": "ipython3",
   "version": "3.7.3"
  }
 },
 "nbformat": 4,
 "nbformat_minor": 2
}
