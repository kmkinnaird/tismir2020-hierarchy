{
 "cells": [
  {
   "cell_type": "markdown",
   "metadata": {},
   "source": [
    "# Matching files between the TUT and Isophonics\n",
    "\n",
    "In this notebook, I create create a system for matching the two Beatles datasets. To do this, I create two `.csv` files that list the Beatles `.jams` files from TUT and Isophonics in the same order. \n",
    "\n",
    "    "
   ]
  },
  {
   "cell_type": "markdown",
   "metadata": {},
   "source": [
    "#### Set Up\n"
   ]
  },
  {
   "cell_type": "code",
   "execution_count": 1,
   "metadata": {},
   "outputs": [],
   "source": [
    "import os \n",
    "import numpy\n"
   ]
  },
  {
   "cell_type": "code",
   "execution_count": 2,
   "metadata": {},
   "outputs": [],
   "source": [
    "dir_name = \"/Users/kkinnaird/Documents/Research/R-Music/Brian-AHE/jams-data/datasets/\"\n",
    "\n",
    "tut_dir = dir_name + \"BeatlesTUT/\"\n",
    "iso_dir = dir_name + \"Isophonics/The Beatles/\""
   ]
  },
  {
   "cell_type": "markdown",
   "metadata": {},
   "source": [
    "### Understanding the directories\n",
    "\n",
    "The two datasets are set-up differently. The Isophonics data has subdirectories for each CD, while the TUT data has no subdirectories instead listing all the songs in one directory. "
   ]
  },
  {
   "cell_type": "code",
   "execution_count": 3,
   "metadata": {},
   "outputs": [],
   "source": [
    "test= os.listdir(iso_dir)"
   ]
  },
  {
   "cell_type": "code",
   "execution_count": 4,
   "metadata": {},
   "outputs": [
    {
     "name": "stdout",
     "output_type": "stream",
     "text": [
      "['02_-_With_the_Beatles', '12_-_Let_It_Be', '04_-_Beatles_for_Sale', '11_-_Abbey_Road', '05_-_Help!', '10CD1_-_The_Beatles', '06_-_Rubber_Soul', '09_-_Magical_Mystery_Tour', '10CD2_-_The_Beatles', \"08_-_Sgt._Pepper's_Lonely_Hearts_Club_Band\", \"03_-_A_Hard_Day's_Night\", '07_-_Revolver', '01_-_Please_Please_Me']\n"
     ]
    }
   ],
   "source": [
    "print(test)"
   ]
  },
  {
   "cell_type": "code",
   "execution_count": 5,
   "metadata": {},
   "outputs": [],
   "source": [
    "tut_list = os.listdir(tut_dir)"
   ]
  },
  {
   "cell_type": "code",
   "execution_count": 6,
   "metadata": {},
   "outputs": [
    {
     "data": {
      "text/plain": [
       "['02_-_Misery.jams',\n",
       " \"01_-_Sgt._Pepper's_Lonely_Hearts_Club_Band.jams\",\n",
       " '12_-_I_Want_To_Tell_You.jams',\n",
       " '09_-_Honey_Pie.jams',\n",
       " '07_-_Please_Please_Me.jams',\n",
       " '05_-_Think_For_Yourself.jams',\n",
       " '03_-_Anna_(Go_To_Him).jams',\n",
       " \"03_-_You've_Got_To_Hide_Your_Love_Away.jams\",\n",
       " '08_-_Any_Time_At_All.jams',\n",
       " \"09_-_When_I'm_Sixty-Four.jams\",\n",
       " \"10_-_I'm_So_Tired.jams\",\n",
       " '10_-_You_Like_Me_Too_Much.jams',\n",
       " \"14_-_Everybody's_Trying_to_Be_My_Baby.jams\",\n",
       " \"14_-_Don't_Pass_Me_By.jams\",\n",
       " '08_-_Good_Day_Sunshine.jams',\n",
       " \"13_-_There's_A_Place.jams\",\n",
       " '11_-_All_You_Need_Is_Love.jams',\n",
       " '08_-_Within_You_Without_You.jams',\n",
       " '12_-_Wait.jams',\n",
       " '01_-_Magical_Mystery_Tour.jams',\n",
       " '05_-_Little_Child.jams',\n",
       " '05_-_Your_Mother_Should_Know.jams',\n",
       " \"05_-_I'll_Follow_the_Sun.jams\",\n",
       " '01_-_Help!.jams',\n",
       " '06_-_Yellow_Submarine.jams',\n",
       " '11_-_Black_Bird.jams',\n",
       " \"05_-_Octopus's_Garden.jams\",\n",
       " \"10_-_Baby_It's_You.jams\",\n",
       " '05_-_Boys.jams',\n",
       " \"12_-_You_Can't_Do_That.jams\",\n",
       " '11_-_Tell_Me_What_You_See.jams',\n",
       " '13_-_Yesterday.jams',\n",
       " '09_-_Words_of_Love.jams',\n",
       " '07_-_Ticket_To_Ride.jams',\n",
       " '06_-_Ask_Me_Why.jams',\n",
       " '05_-_Fixing_A_Hole.jams',\n",
       " '04_-_I_Me_Mine.jams',\n",
       " '04_-_Ob-La-Di,_Ob-La-Da.jams',\n",
       " '13_-_Rocky_Raccoon.jams',\n",
       " '09_-_Penny_Lane.jams',\n",
       " '06_-_I_Want_You.jams',\n",
       " '10_-_Sun_King.jams',\n",
       " '03_-_Across_the_Universe.jams',\n",
       " '11_-_I_Wanna_Be_Your_Man.jams',\n",
       " '10_-_The_Long_and_Winding_Road.jams',\n",
       " \"06_-_You're_Going_to_Lose_That_Girl.jams\",\n",
       " '13_-_Got_To_Get_You_Into_My_Life.jams',\n",
       " '04_-_Getting_Better.jams',\n",
       " '03_-_Flying.jams',\n",
       " '11_-_Doctor_Robert.jams',\n",
       " '07_-_While_My_Guitar_Gently_Weeps.jams',\n",
       " '06_-_Mr._Moonlight.jams',\n",
       " '07_-_Please_Mister_Postman.jams',\n",
       " '13_-_She_Came_In_Trough_The_Bathroom_Window.jams',\n",
       " '14_-_Golden_Slumbers.jams',\n",
       " '05_-_Here,_There_And_Everywhere.jams',\n",
       " \"10_-_Honey_Don't.jams\",\n",
       " '03_-_Glass_Onion.jams',\n",
       " '10_-_Things_We_Said_Today.jams',\n",
       " '07_-_Hello_Goodbye.jams',\n",
       " '06_-_Tell_Me_Why.jams',\n",
       " \"02_-_All_I've_Got_To_Do.jams\",\n",
       " '03_-_If_I_Fell.jams',\n",
       " '10_-_For_No_One.jams',\n",
       " '12_-_Piggies.jams',\n",
       " '15_-_Carry_That_Weight.jams',\n",
       " '09_-_Girl.jams',\n",
       " '01_-_Birthday.jams',\n",
       " '02_-_I_Should_Have_Known_Better.jams',\n",
       " '17_-_Julia.jams',\n",
       " '08_-_Love_Me_Do.jams',\n",
       " \"15_-_Why_Don't_We_Do_It_In_The_Road.jams\",\n",
       " '02_-_The_Night_Before.jams',\n",
       " '04_-_I_Need_You.jams',\n",
       " '05_-_Another_Girl.jams',\n",
       " '10_-_Savoy_Truffle.jams',\n",
       " \"06_-_She's_Leaving_Home.jams\",\n",
       " '02_-_Norwegian_Wood_(This_Bird_Has_Flown).jams',\n",
       " '07_-_Here_Comes_The_Sun.jams',\n",
       " \"07_-_Can't_Buy_Me_Love.jams\",\n",
       " '03_-_Lucy_In_The_Sky_With_Diamonds.jams',\n",
       " '08_-_Roll_Over_Beethoven.jams',\n",
       " \"04_-_Don't_Bother_Me.jams\",\n",
       " '08_-_What_Goes_On.jams',\n",
       " '13_-_Good_Night.jams',\n",
       " '11_-_For_You_Blue.jams',\n",
       " '01_-_No_Reply.jams',\n",
       " '06_-_Let_It_Be.jams',\n",
       " \"12_-_Sgt._Pepper's_Lonely_Hearts_Club_Band_(Reprise).jams\",\n",
       " '06_-The_Continuing_Story_of_Bungalow_Bill.jams',\n",
       " '04_-_Blue_Jay_Way.jams',\n",
       " \"03_-_Baby's_In_Black.jams\",\n",
       " '14_-_Run_For_Your_Life.jams',\n",
       " '14_-_Dizzy_Miss_Lizzie.jams',\n",
       " '12_-_Get_Back.jams',\n",
       " '09_-_One_After_909.jams',\n",
       " '10_-_Lovely_Rita.jams',\n",
       " '09_-_And_Your_Bird_Can_Sing.jams',\n",
       " \"01_-_A_Hard_Day's_Night.jams\",\n",
       " '07_-_Kansas_City-_Hey,_Hey,_Hey,_Hey.jams',\n",
       " '14_-_Tomorrow_Never_Knows.jams',\n",
       " '12_-_Devil_In_Her_Heart.jams',\n",
       " \"13_-_What_You're_Doing.jams\",\n",
       " '07_-_Being_For_The_Benefit_Of_Mr._Kite!.jams',\n",
       " '02_-_Yer_Blues.jams',\n",
       " '09_-_Martha_My_Dear.jams',\n",
       " '09_-_Hold_Me_Tight.jams',\n",
       " '13_-_If_I_Needed_Someone.jams',\n",
       " \"03_-_Mother_Nature's_Son.jams\",\n",
       " '14_-_Money.jams',\n",
       " '12_-_A_Taste_Of_Honey.jams',\n",
       " '04_-_Chains.jams',\n",
       " '13_-_Not_A_Second_Time.jams',\n",
       " \"03_-_Maxwell's_Silver_Hammer.jams\",\n",
       " '02_-_Dear_Prudence.jams',\n",
       " \"04_-_Everybody's_Got_Something_To_Hide_Except_Me_and_M.jams\",\n",
       " '11_-_Good_Morning_Good_Morning.jams',\n",
       " '07_-_Long_Long_Long.jams',\n",
       " '04_-_Rock_and_Roll_Music.jams',\n",
       " '14_-_Twist_And_Shout.jams',\n",
       " '02_-_Dig_a_Pony.jams',\n",
       " '11_-_Every_Little_Thing.jams',\n",
       " '08_-_Act_Naturally.jams',\n",
       " '01_-_Drive_My_Car.jams',\n",
       " '04_-_Nowhere_Man.jams',\n",
       " '01_-_Come_Together.jams',\n",
       " '11_-_Cry_Baby_Cry.jams',\n",
       " '06_-_The_Word.jams',\n",
       " '11_-_When_I_Get_Home.jams',\n",
       " \"03_-_You_Won't_See_Me.jams\",\n",
       " '04_-_Oh!_Darling.jams',\n",
       " '11_-_Mean_Mr_Mustard.jams',\n",
       " '03_-_All_My_Loving.jams',\n",
       " '17_-_Her_Majesty.jams',\n",
       " '09_-_P._S._I_Love_You.jams',\n",
       " \"10_-_Baby_You're_A_Rich_Man.jams\",\n",
       " \"10_-_I'm_Looking_Through_You.jams\",\n",
       " '02_-_With_A_Little_Help_From_My_Friends.jams',\n",
       " '05_-_Dig_It.jams',\n",
       " '02_-_The_Fool_On_The_Hill.jams',\n",
       " \"12_-_I've_Just_Seen_a_Face.jams\",\n",
       " '08_-_Strawberry_Fields_Forever.jams',\n",
       " '01_-_Taxman.jams',\n",
       " '07_-_Michelle.jams',\n",
       " '04_-_Love_You_To.jams',\n",
       " '01_-_Two_of_Us.jams',\n",
       " '07_-_Maggie_Mae.jams',\n",
       " \"01_-_It_Won't_Be_Long.jams\",\n",
       " '11_-_In_My_Life.jams',\n",
       " '08_-_Revolution_1.jams',\n",
       " '05_-_Sexy_Sadie.jams',\n",
       " '07_-_She_Said_She_Said.jams',\n",
       " \"09_-_I'll_Cry_Instead.jams\",\n",
       " '02_-_Something.jams',\n",
       " \"02_-_I'm_a_Loser.jams\",\n",
       " \"12_-_I_Don't_Want_to_Spoil_the_Party.jams\",\n",
       " '10_-_You_Really_Got_A_Hold_On_Me.jams',\n",
       " \"09_-_It's_Only_Love.jams\",\n",
       " \"03_-_I'm_Only_Sleeping.jams\",\n",
       " '16_-_I_Will.jams',\n",
       " '08_-_Because.jams',\n",
       " \"13_-_I'll_Be_Back.jams\",\n",
       " '08_-_Eight_Days_a_Week.jams',\n",
       " '11_-_Do_You_Want_To_Know_A_Secret.jams',\n",
       " '06_-_I_Am_The_Walrus.jams',\n",
       " \"04_-_I'm_Happy_Just_To_Dance_With_You.jams\",\n",
       " '01_-_I_Saw_Her_Standing_There.jams',\n",
       " '05_-_And_I_Love_Her.jams',\n",
       " '13_-_A_Day_In_The_Life.jams',\n",
       " '02_-_Eleanor_Rigby.jams',\n",
       " '01_-_Back_in_the_USSR.jams',\n",
       " '06_-_Till_There_Was_You.jams',\n",
       " '12_-_Polythene_Pam.jams',\n",
       " \"08_-_I've_Got_A_Feeling.jams\"]"
      ]
     },
     "execution_count": 6,
     "metadata": {},
     "output_type": "execute_result"
    }
   ],
   "source": [
    "tut_list"
   ]
  },
  {
   "cell_type": "markdown",
   "metadata": {},
   "source": [
    "### First pass at matching \n",
    "\n",
    "Using string matching "
   ]
  },
  {
   "cell_type": "code",
   "execution_count": 7,
   "metadata": {},
   "outputs": [],
   "source": [
    "tut_files = []\n",
    "iso_files = []\n",
    "iso_files_2_match = []\n",
    "\n",
    "for subdir in os.listdir(iso_dir):\n",
    "    for filename in os.listdir(iso_dir + subdir + \"/\"):\n",
    "        iso_filename = subdir + \"/\" + filename\n",
    "        \n",
    "        if filename[0] == \"C\":\n",
    "            filename = filename[6:]\n",
    "        \n",
    "        if filename in tut_list:\n",
    "            ind = tut_list.index(filename)\n",
    "            tut_files.append(tut_list[ind])\n",
    "            \n",
    "            iso_files.append(iso_filename)\n",
    "        else:\n",
    "            iso_files_2_match.append(iso_filename)"
   ]
  },
  {
   "cell_type": "code",
   "execution_count": 8,
   "metadata": {},
   "outputs": [
    {
     "data": {
      "text/plain": [
       "169"
      ]
     },
     "execution_count": 8,
     "metadata": {},
     "output_type": "execute_result"
    }
   ],
   "source": [
    "len(iso_files)"
   ]
  },
  {
   "cell_type": "code",
   "execution_count": 9,
   "metadata": {},
   "outputs": [
    {
     "data": {
      "text/plain": [
       "174"
      ]
     },
     "execution_count": 9,
     "metadata": {},
     "output_type": "execute_result"
    }
   ],
   "source": [
    "len(tut_list)"
   ]
  },
  {
   "cell_type": "code",
   "execution_count": 10,
   "metadata": {},
   "outputs": [
    {
     "data": {
      "text/plain": [
       "11"
      ]
     },
     "execution_count": 10,
     "metadata": {},
     "output_type": "execute_result"
    }
   ],
   "source": [
    "len(iso_files_2_match)"
   ]
  },
  {
   "cell_type": "code",
   "execution_count": 11,
   "metadata": {},
   "outputs": [
    {
     "data": {
      "text/plain": [
       "169"
      ]
     },
     "execution_count": 11,
     "metadata": {},
     "output_type": "execute_result"
    }
   ],
   "source": [
    "len(tut_files)"
   ]
  },
  {
   "cell_type": "markdown",
   "metadata": {},
   "source": [
    "### Manual Matching "
   ]
  },
  {
   "cell_type": "code",
   "execution_count": 12,
   "metadata": {},
   "outputs": [
    {
     "data": {
      "text/plain": [
       "['11_-_Abbey_Road/16_-_The_End.jams',\n",
       " '11_-_Abbey_Road/09_-_You_Never_Give_Me_Your_Money.jams',\n",
       " '11_-_Abbey_Road/13_-_She_Came_In_Through_The_Bathroom_Window.jams',\n",
       " '05_-_Help!/14_-_Dizzy_Miss_Lizzy.jams',\n",
       " \"05_-_Help!/06_-_You're_Going_To_Lose_That_Girl.jams\",\n",
       " '10CD1_-_The_Beatles/CD1_-_08_-_Happiness_is_a_Warm_Gun.jams',\n",
       " '10CD1_-_The_Beatles/CD1_-_05_-_Wild_Honey_Pie.jams',\n",
       " '10CD1_-_The_Beatles/CD1_-_06_-_The_Continuing_Story_of_Bungalow_Bill.jams',\n",
       " '10CD2_-_The_Beatles/CD2_-_06_-_Helter_Skelter.jams',\n",
       " \"10CD2_-_The_Beatles/CD2_-_04_-_Everybody's_Got_Something_To_Hide_Except_Me_and_My_Monkey.jams\",\n",
       " '10CD2_-_The_Beatles/CD2_-_12_-_Revolution_9.jams']"
      ]
     },
     "execution_count": 12,
     "metadata": {},
     "output_type": "execute_result"
    }
   ],
   "source": [
    "iso_files_2_match"
   ]
  },
  {
   "cell_type": "code",
   "execution_count": 13,
   "metadata": {},
   "outputs": [],
   "source": [
    "iso_files.append(iso_files_2_match[2])\n",
    "tut_files.append(\"13_-_She_Came_In_Trough_The_Bathroom_Window.jams\")"
   ]
  },
  {
   "cell_type": "code",
   "execution_count": 14,
   "metadata": {},
   "outputs": [],
   "source": [
    "iso_files.append(iso_files_2_match[3])\n",
    "tut_files.append(\"14_-_Dizzy_Miss_Lizzie.jams\")"
   ]
  },
  {
   "cell_type": "code",
   "execution_count": 15,
   "metadata": {},
   "outputs": [],
   "source": [
    "iso_files.append(iso_files_2_match[4])\n",
    "tut_files.append(\"06_-_You're_Going_to_Lose_That_Girl.jams\")"
   ]
  },
  {
   "cell_type": "code",
   "execution_count": 16,
   "metadata": {},
   "outputs": [],
   "source": [
    "iso_files.append(iso_files_2_match[8])\n",
    "tut_files.append(\"06_-The_Continuing_Story_of_Bungalow_Bill.jams\")"
   ]
  },
  {
   "cell_type": "code",
   "execution_count": 17,
   "metadata": {},
   "outputs": [],
   "source": [
    "iso_files.append(iso_files_2_match[9])\n",
    "tut_files.append(\"04_-_Everybody's_Got_Something_To_Hide_Except_Me_and_M.jams\")"
   ]
  },
  {
   "cell_type": "code",
   "execution_count": 18,
   "metadata": {
    "scrolled": true
   },
   "outputs": [
    {
     "data": {
      "text/plain": [
       "['02_-_With_the_Beatles/05_-_Little_Child.jams',\n",
       " '02_-_With_the_Beatles/11_-_I_Wanna_Be_Your_Man.jams',\n",
       " '02_-_With_the_Beatles/07_-_Please_Mister_Postman.jams',\n",
       " \"02_-_With_the_Beatles/02_-_All_I've_Got_To_Do.jams\",\n",
       " '02_-_With_the_Beatles/08_-_Roll_Over_Beethoven.jams',\n",
       " \"02_-_With_the_Beatles/04_-_Don't_Bother_Me.jams\",\n",
       " '02_-_With_the_Beatles/12_-_Devil_In_Her_Heart.jams',\n",
       " '02_-_With_the_Beatles/09_-_Hold_Me_Tight.jams',\n",
       " '02_-_With_the_Beatles/14_-_Money.jams',\n",
       " '02_-_With_the_Beatles/13_-_Not_A_Second_Time.jams',\n",
       " '02_-_With_the_Beatles/03_-_All_My_Loving.jams',\n",
       " \"02_-_With_the_Beatles/01_-_It_Won't_Be_Long.jams\",\n",
       " '02_-_With_the_Beatles/10_-_You_Really_Got_A_Hold_On_Me.jams',\n",
       " '02_-_With_the_Beatles/06_-_Till_There_Was_You.jams',\n",
       " '12_-_Let_It_Be/04_-_I_Me_Mine.jams',\n",
       " '12_-_Let_It_Be/03_-_Across_the_Universe.jams',\n",
       " '12_-_Let_It_Be/10_-_The_Long_and_Winding_Road.jams',\n",
       " '12_-_Let_It_Be/11_-_For_You_Blue.jams',\n",
       " '12_-_Let_It_Be/06_-_Let_It_Be.jams',\n",
       " '12_-_Let_It_Be/12_-_Get_Back.jams',\n",
       " '12_-_Let_It_Be/09_-_One_After_909.jams',\n",
       " '12_-_Let_It_Be/02_-_Dig_a_Pony.jams',\n",
       " '12_-_Let_It_Be/05_-_Dig_It.jams',\n",
       " '12_-_Let_It_Be/01_-_Two_of_Us.jams',\n",
       " '12_-_Let_It_Be/07_-_Maggie_Mae.jams',\n",
       " \"12_-_Let_It_Be/08_-_I've_Got_A_Feeling.jams\",\n",
       " \"04_-_Beatles_for_Sale/14_-_Everybody's_Trying_to_Be_My_Baby.jams\",\n",
       " \"04_-_Beatles_for_Sale/05_-_I'll_Follow_the_Sun.jams\",\n",
       " '04_-_Beatles_for_Sale/09_-_Words_of_Love.jams',\n",
       " '04_-_Beatles_for_Sale/06_-_Mr._Moonlight.jams',\n",
       " \"04_-_Beatles_for_Sale/10_-_Honey_Don't.jams\",\n",
       " '04_-_Beatles_for_Sale/01_-_No_Reply.jams',\n",
       " \"04_-_Beatles_for_Sale/03_-_Baby's_In_Black.jams\",\n",
       " '04_-_Beatles_for_Sale/07_-_Kansas_City-_Hey,_Hey,_Hey,_Hey.jams',\n",
       " \"04_-_Beatles_for_Sale/13_-_What_You're_Doing.jams\",\n",
       " '04_-_Beatles_for_Sale/04_-_Rock_and_Roll_Music.jams',\n",
       " '04_-_Beatles_for_Sale/11_-_Every_Little_Thing.jams',\n",
       " \"04_-_Beatles_for_Sale/02_-_I'm_a_Loser.jams\",\n",
       " \"04_-_Beatles_for_Sale/12_-_I_Don't_Want_to_Spoil_the_Party.jams\",\n",
       " '04_-_Beatles_for_Sale/08_-_Eight_Days_a_Week.jams',\n",
       " \"11_-_Abbey_Road/05_-_Octopus's_Garden.jams\",\n",
       " '11_-_Abbey_Road/06_-_I_Want_You.jams',\n",
       " '11_-_Abbey_Road/10_-_Sun_King.jams',\n",
       " '11_-_Abbey_Road/14_-_Golden_Slumbers.jams',\n",
       " '11_-_Abbey_Road/15_-_Carry_That_Weight.jams',\n",
       " '11_-_Abbey_Road/07_-_Here_Comes_The_Sun.jams',\n",
       " \"11_-_Abbey_Road/03_-_Maxwell's_Silver_Hammer.jams\",\n",
       " '11_-_Abbey_Road/01_-_Come_Together.jams',\n",
       " '11_-_Abbey_Road/04_-_Oh!_Darling.jams',\n",
       " '11_-_Abbey_Road/11_-_Mean_Mr_Mustard.jams',\n",
       " '11_-_Abbey_Road/17_-_Her_Majesty.jams',\n",
       " '11_-_Abbey_Road/02_-_Something.jams',\n",
       " '11_-_Abbey_Road/08_-_Because.jams',\n",
       " '11_-_Abbey_Road/12_-_Polythene_Pam.jams',\n",
       " \"05_-_Help!/03_-_You've_Got_To_Hide_Your_Love_Away.jams\",\n",
       " '05_-_Help!/10_-_You_Like_Me_Too_Much.jams',\n",
       " '05_-_Help!/01_-_Help!.jams',\n",
       " '05_-_Help!/11_-_Tell_Me_What_You_See.jams',\n",
       " '05_-_Help!/13_-_Yesterday.jams',\n",
       " '05_-_Help!/07_-_Ticket_To_Ride.jams',\n",
       " '05_-_Help!/02_-_The_Night_Before.jams',\n",
       " '05_-_Help!/04_-_I_Need_You.jams',\n",
       " '05_-_Help!/05_-_Another_Girl.jams',\n",
       " '05_-_Help!/08_-_Act_Naturally.jams',\n",
       " \"05_-_Help!/12_-_I've_Just_Seen_a_Face.jams\",\n",
       " \"05_-_Help!/09_-_It's_Only_Love.jams\",\n",
       " '10CD1_-_The_Beatles/CD1_-_04_-_Ob-La-Di,_Ob-La-Da.jams',\n",
       " '10CD1_-_The_Beatles/CD1_-_13_-_Rocky_Raccoon.jams',\n",
       " \"10CD1_-_The_Beatles/CD1_-_10_-_I'm_So_Tired.jams\",\n",
       " \"10CD1_-_The_Beatles/CD1_-_14_-_Don't_Pass_Me_By.jams\",\n",
       " '10CD1_-_The_Beatles/CD1_-_16_-_I_Will.jams',\n",
       " \"10CD1_-_The_Beatles/CD1_-_15_-_Why_Don't_We_Do_It_In_The_Road.jams\",\n",
       " '10CD1_-_The_Beatles/CD1_-_07_-_While_My_Guitar_Gently_Weeps.jams',\n",
       " '10CD1_-_The_Beatles/CD1_-_11_-_Black_Bird.jams',\n",
       " '10CD1_-_The_Beatles/CD1_-_17_-_Julia.jams',\n",
       " '10CD1_-_The_Beatles/CD1_-_03_-_Glass_Onion.jams',\n",
       " '10CD1_-_The_Beatles/CD1_-_01_-_Back_in_the_USSR.jams',\n",
       " '10CD1_-_The_Beatles/CD1_-_02_-_Dear_Prudence.jams',\n",
       " '10CD1_-_The_Beatles/CD1_-_12_-_Piggies.jams',\n",
       " '10CD1_-_The_Beatles/CD1_-_09_-_Martha_My_Dear.jams',\n",
       " '06_-_Rubber_Soul/05_-_Think_For_Yourself.jams',\n",
       " '06_-_Rubber_Soul/12_-_Wait.jams',\n",
       " '06_-_Rubber_Soul/09_-_Girl.jams',\n",
       " '06_-_Rubber_Soul/02_-_Norwegian_Wood_(This_Bird_Has_Flown).jams',\n",
       " '06_-_Rubber_Soul/08_-_What_Goes_On.jams',\n",
       " '06_-_Rubber_Soul/14_-_Run_For_Your_Life.jams',\n",
       " '06_-_Rubber_Soul/13_-_If_I_Needed_Someone.jams',\n",
       " '06_-_Rubber_Soul/01_-_Drive_My_Car.jams',\n",
       " '06_-_Rubber_Soul/04_-_Nowhere_Man.jams',\n",
       " '06_-_Rubber_Soul/06_-_The_Word.jams',\n",
       " \"06_-_Rubber_Soul/03_-_You_Won't_See_Me.jams\",\n",
       " \"06_-_Rubber_Soul/10_-_I'm_Looking_Through_You.jams\",\n",
       " '06_-_Rubber_Soul/07_-_Michelle.jams',\n",
       " '06_-_Rubber_Soul/11_-_In_My_Life.jams',\n",
       " '09_-_Magical_Mystery_Tour/11_-_All_You_Need_Is_Love.jams',\n",
       " '09_-_Magical_Mystery_Tour/01_-_Magical_Mystery_Tour.jams',\n",
       " '09_-_Magical_Mystery_Tour/05_-_Your_Mother_Should_Know.jams',\n",
       " '09_-_Magical_Mystery_Tour/09_-_Penny_Lane.jams',\n",
       " '09_-_Magical_Mystery_Tour/03_-_Flying.jams',\n",
       " '09_-_Magical_Mystery_Tour/07_-_Hello_Goodbye.jams',\n",
       " '09_-_Magical_Mystery_Tour/04_-_Blue_Jay_Way.jams',\n",
       " \"09_-_Magical_Mystery_Tour/10_-_Baby_You're_A_Rich_Man.jams\",\n",
       " '09_-_Magical_Mystery_Tour/02_-_The_Fool_On_The_Hill.jams',\n",
       " '09_-_Magical_Mystery_Tour/08_-_Strawberry_Fields_Forever.jams',\n",
       " '09_-_Magical_Mystery_Tour/06_-_I_Am_The_Walrus.jams',\n",
       " '10CD2_-_The_Beatles/CD2_-_08_-_Revolution_1.jams',\n",
       " '10CD2_-_The_Beatles/CD2_-_05_-_Sexy_Sadie.jams',\n",
       " '10CD2_-_The_Beatles/CD2_-_11_-_Cry_Baby_Cry.jams',\n",
       " '10CD2_-_The_Beatles/CD2_-_09_-_Honey_Pie.jams',\n",
       " '10CD2_-_The_Beatles/CD2_-_07_-_Long_Long_Long.jams',\n",
       " \"10CD2_-_The_Beatles/CD2_-_03_-_Mother_Nature's_Son.jams\",\n",
       " '10CD2_-_The_Beatles/CD2_-_01_-_Birthday.jams',\n",
       " '10CD2_-_The_Beatles/CD2_-_10_-_Savoy_Truffle.jams',\n",
       " '10CD2_-_The_Beatles/CD2_-_13_-_Good_Night.jams',\n",
       " '10CD2_-_The_Beatles/CD2_-_02_-_Yer_Blues.jams',\n",
       " \"08_-_Sgt._Pepper's_Lonely_Hearts_Club_Band/01_-_Sgt._Pepper's_Lonely_Hearts_Club_Band.jams\",\n",
       " \"08_-_Sgt._Pepper's_Lonely_Hearts_Club_Band/09_-_When_I'm_Sixty-Four.jams\",\n",
       " \"08_-_Sgt._Pepper's_Lonely_Hearts_Club_Band/08_-_Within_You_Without_You.jams\",\n",
       " \"08_-_Sgt._Pepper's_Lonely_Hearts_Club_Band/05_-_Fixing_A_Hole.jams\",\n",
       " \"08_-_Sgt._Pepper's_Lonely_Hearts_Club_Band/04_-_Getting_Better.jams\",\n",
       " \"08_-_Sgt._Pepper's_Lonely_Hearts_Club_Band/06_-_She's_Leaving_Home.jams\",\n",
       " \"08_-_Sgt._Pepper's_Lonely_Hearts_Club_Band/03_-_Lucy_In_The_Sky_With_Diamonds.jams\",\n",
       " \"08_-_Sgt._Pepper's_Lonely_Hearts_Club_Band/12_-_Sgt._Pepper's_Lonely_Hearts_Club_Band_(Reprise).jams\",\n",
       " \"08_-_Sgt._Pepper's_Lonely_Hearts_Club_Band/10_-_Lovely_Rita.jams\",\n",
       " \"08_-_Sgt._Pepper's_Lonely_Hearts_Club_Band/07_-_Being_For_The_Benefit_Of_Mr._Kite!.jams\",\n",
       " \"08_-_Sgt._Pepper's_Lonely_Hearts_Club_Band/11_-_Good_Morning_Good_Morning.jams\",\n",
       " \"08_-_Sgt._Pepper's_Lonely_Hearts_Club_Band/02_-_With_A_Little_Help_From_My_Friends.jams\",\n",
       " \"08_-_Sgt._Pepper's_Lonely_Hearts_Club_Band/13_-_A_Day_In_The_Life.jams\",\n",
       " \"03_-_A_Hard_Day's_Night/08_-_Any_Time_At_All.jams\",\n",
       " \"03_-_A_Hard_Day's_Night/12_-_You_Can't_Do_That.jams\",\n",
       " \"03_-_A_Hard_Day's_Night/10_-_Things_We_Said_Today.jams\",\n",
       " \"03_-_A_Hard_Day's_Night/06_-_Tell_Me_Why.jams\",\n",
       " \"03_-_A_Hard_Day's_Night/03_-_If_I_Fell.jams\",\n",
       " \"03_-_A_Hard_Day's_Night/02_-_I_Should_Have_Known_Better.jams\",\n",
       " \"03_-_A_Hard_Day's_Night/07_-_Can't_Buy_Me_Love.jams\",\n",
       " \"03_-_A_Hard_Day's_Night/01_-_A_Hard_Day's_Night.jams\",\n",
       " \"03_-_A_Hard_Day's_Night/11_-_When_I_Get_Home.jams\",\n",
       " \"03_-_A_Hard_Day's_Night/09_-_I'll_Cry_Instead.jams\",\n",
       " \"03_-_A_Hard_Day's_Night/13_-_I'll_Be_Back.jams\",\n",
       " \"03_-_A_Hard_Day's_Night/04_-_I'm_Happy_Just_To_Dance_With_You.jams\",\n",
       " \"03_-_A_Hard_Day's_Night/05_-_And_I_Love_Her.jams\",\n",
       " '07_-_Revolver/12_-_I_Want_To_Tell_You.jams',\n",
       " '07_-_Revolver/08_-_Good_Day_Sunshine.jams',\n",
       " '07_-_Revolver/06_-_Yellow_Submarine.jams',\n",
       " '07_-_Revolver/13_-_Got_To_Get_You_Into_My_Life.jams',\n",
       " '07_-_Revolver/11_-_Doctor_Robert.jams',\n",
       " '07_-_Revolver/05_-_Here,_There_And_Everywhere.jams',\n",
       " '07_-_Revolver/10_-_For_No_One.jams',\n",
       " '07_-_Revolver/09_-_And_Your_Bird_Can_Sing.jams',\n",
       " '07_-_Revolver/14_-_Tomorrow_Never_Knows.jams',\n",
       " '07_-_Revolver/01_-_Taxman.jams',\n",
       " '07_-_Revolver/04_-_Love_You_To.jams',\n",
       " '07_-_Revolver/07_-_She_Said_She_Said.jams',\n",
       " \"07_-_Revolver/03_-_I'm_Only_Sleeping.jams\",\n",
       " '07_-_Revolver/02_-_Eleanor_Rigby.jams',\n",
       " '01_-_Please_Please_Me/02_-_Misery.jams',\n",
       " '01_-_Please_Please_Me/07_-_Please_Please_Me.jams',\n",
       " '01_-_Please_Please_Me/03_-_Anna_(Go_To_Him).jams',\n",
       " \"01_-_Please_Please_Me/13_-_There's_A_Place.jams\",\n",
       " \"01_-_Please_Please_Me/10_-_Baby_It's_You.jams\",\n",
       " '01_-_Please_Please_Me/05_-_Boys.jams',\n",
       " '01_-_Please_Please_Me/06_-_Ask_Me_Why.jams',\n",
       " '01_-_Please_Please_Me/08_-_Love_Me_Do.jams',\n",
       " '01_-_Please_Please_Me/12_-_A_Taste_Of_Honey.jams',\n",
       " '01_-_Please_Please_Me/04_-_Chains.jams',\n",
       " '01_-_Please_Please_Me/14_-_Twist_And_Shout.jams',\n",
       " '01_-_Please_Please_Me/09_-_P._S._I_Love_You.jams',\n",
       " '01_-_Please_Please_Me/11_-_Do_You_Want_To_Know_A_Secret.jams',\n",
       " '01_-_Please_Please_Me/01_-_I_Saw_Her_Standing_There.jams',\n",
       " '11_-_Abbey_Road/13_-_She_Came_In_Through_The_Bathroom_Window.jams',\n",
       " '05_-_Help!/14_-_Dizzy_Miss_Lizzy.jams',\n",
       " \"05_-_Help!/06_-_You're_Going_To_Lose_That_Girl.jams\",\n",
       " '10CD2_-_The_Beatles/CD2_-_06_-_Helter_Skelter.jams',\n",
       " \"10CD2_-_The_Beatles/CD2_-_04_-_Everybody's_Got_Something_To_Hide_Except_Me_and_My_Monkey.jams\"]"
      ]
     },
     "execution_count": 18,
     "metadata": {},
     "output_type": "execute_result"
    }
   ],
   "source": [
    "iso_files"
   ]
  },
  {
   "cell_type": "code",
   "execution_count": 19,
   "metadata": {},
   "outputs": [
    {
     "data": {
      "text/plain": [
       "['05_-_Little_Child.jams',\n",
       " '11_-_I_Wanna_Be_Your_Man.jams',\n",
       " '07_-_Please_Mister_Postman.jams',\n",
       " \"02_-_All_I've_Got_To_Do.jams\",\n",
       " '08_-_Roll_Over_Beethoven.jams',\n",
       " \"04_-_Don't_Bother_Me.jams\",\n",
       " '12_-_Devil_In_Her_Heart.jams',\n",
       " '09_-_Hold_Me_Tight.jams',\n",
       " '14_-_Money.jams',\n",
       " '13_-_Not_A_Second_Time.jams',\n",
       " '03_-_All_My_Loving.jams',\n",
       " \"01_-_It_Won't_Be_Long.jams\",\n",
       " '10_-_You_Really_Got_A_Hold_On_Me.jams',\n",
       " '06_-_Till_There_Was_You.jams',\n",
       " '04_-_I_Me_Mine.jams',\n",
       " '03_-_Across_the_Universe.jams',\n",
       " '10_-_The_Long_and_Winding_Road.jams',\n",
       " '11_-_For_You_Blue.jams',\n",
       " '06_-_Let_It_Be.jams',\n",
       " '12_-_Get_Back.jams',\n",
       " '09_-_One_After_909.jams',\n",
       " '02_-_Dig_a_Pony.jams',\n",
       " '05_-_Dig_It.jams',\n",
       " '01_-_Two_of_Us.jams',\n",
       " '07_-_Maggie_Mae.jams',\n",
       " \"08_-_I've_Got_A_Feeling.jams\",\n",
       " \"14_-_Everybody's_Trying_to_Be_My_Baby.jams\",\n",
       " \"05_-_I'll_Follow_the_Sun.jams\",\n",
       " '09_-_Words_of_Love.jams',\n",
       " '06_-_Mr._Moonlight.jams',\n",
       " \"10_-_Honey_Don't.jams\",\n",
       " '01_-_No_Reply.jams',\n",
       " \"03_-_Baby's_In_Black.jams\",\n",
       " '07_-_Kansas_City-_Hey,_Hey,_Hey,_Hey.jams',\n",
       " \"13_-_What_You're_Doing.jams\",\n",
       " '04_-_Rock_and_Roll_Music.jams',\n",
       " '11_-_Every_Little_Thing.jams',\n",
       " \"02_-_I'm_a_Loser.jams\",\n",
       " \"12_-_I_Don't_Want_to_Spoil_the_Party.jams\",\n",
       " '08_-_Eight_Days_a_Week.jams',\n",
       " \"05_-_Octopus's_Garden.jams\",\n",
       " '06_-_I_Want_You.jams',\n",
       " '10_-_Sun_King.jams',\n",
       " '14_-_Golden_Slumbers.jams',\n",
       " '15_-_Carry_That_Weight.jams',\n",
       " '07_-_Here_Comes_The_Sun.jams',\n",
       " \"03_-_Maxwell's_Silver_Hammer.jams\",\n",
       " '01_-_Come_Together.jams',\n",
       " '04_-_Oh!_Darling.jams',\n",
       " '11_-_Mean_Mr_Mustard.jams',\n",
       " '17_-_Her_Majesty.jams',\n",
       " '02_-_Something.jams',\n",
       " '08_-_Because.jams',\n",
       " '12_-_Polythene_Pam.jams',\n",
       " \"03_-_You've_Got_To_Hide_Your_Love_Away.jams\",\n",
       " '10_-_You_Like_Me_Too_Much.jams',\n",
       " '01_-_Help!.jams',\n",
       " '11_-_Tell_Me_What_You_See.jams',\n",
       " '13_-_Yesterday.jams',\n",
       " '07_-_Ticket_To_Ride.jams',\n",
       " '02_-_The_Night_Before.jams',\n",
       " '04_-_I_Need_You.jams',\n",
       " '05_-_Another_Girl.jams',\n",
       " '08_-_Act_Naturally.jams',\n",
       " \"12_-_I've_Just_Seen_a_Face.jams\",\n",
       " \"09_-_It's_Only_Love.jams\",\n",
       " '04_-_Ob-La-Di,_Ob-La-Da.jams',\n",
       " '13_-_Rocky_Raccoon.jams',\n",
       " \"10_-_I'm_So_Tired.jams\",\n",
       " \"14_-_Don't_Pass_Me_By.jams\",\n",
       " '16_-_I_Will.jams',\n",
       " \"15_-_Why_Don't_We_Do_It_In_The_Road.jams\",\n",
       " '07_-_While_My_Guitar_Gently_Weeps.jams',\n",
       " '11_-_Black_Bird.jams',\n",
       " '17_-_Julia.jams',\n",
       " '03_-_Glass_Onion.jams',\n",
       " '01_-_Back_in_the_USSR.jams',\n",
       " '02_-_Dear_Prudence.jams',\n",
       " '12_-_Piggies.jams',\n",
       " '09_-_Martha_My_Dear.jams',\n",
       " '05_-_Think_For_Yourself.jams',\n",
       " '12_-_Wait.jams',\n",
       " '09_-_Girl.jams',\n",
       " '02_-_Norwegian_Wood_(This_Bird_Has_Flown).jams',\n",
       " '08_-_What_Goes_On.jams',\n",
       " '14_-_Run_For_Your_Life.jams',\n",
       " '13_-_If_I_Needed_Someone.jams',\n",
       " '01_-_Drive_My_Car.jams',\n",
       " '04_-_Nowhere_Man.jams',\n",
       " '06_-_The_Word.jams',\n",
       " \"03_-_You_Won't_See_Me.jams\",\n",
       " \"10_-_I'm_Looking_Through_You.jams\",\n",
       " '07_-_Michelle.jams',\n",
       " '11_-_In_My_Life.jams',\n",
       " '11_-_All_You_Need_Is_Love.jams',\n",
       " '01_-_Magical_Mystery_Tour.jams',\n",
       " '05_-_Your_Mother_Should_Know.jams',\n",
       " '09_-_Penny_Lane.jams',\n",
       " '03_-_Flying.jams',\n",
       " '07_-_Hello_Goodbye.jams',\n",
       " '04_-_Blue_Jay_Way.jams',\n",
       " \"10_-_Baby_You're_A_Rich_Man.jams\",\n",
       " '02_-_The_Fool_On_The_Hill.jams',\n",
       " '08_-_Strawberry_Fields_Forever.jams',\n",
       " '06_-_I_Am_The_Walrus.jams',\n",
       " '08_-_Revolution_1.jams',\n",
       " '05_-_Sexy_Sadie.jams',\n",
       " '11_-_Cry_Baby_Cry.jams',\n",
       " '09_-_Honey_Pie.jams',\n",
       " '07_-_Long_Long_Long.jams',\n",
       " \"03_-_Mother_Nature's_Son.jams\",\n",
       " '01_-_Birthday.jams',\n",
       " '10_-_Savoy_Truffle.jams',\n",
       " '13_-_Good_Night.jams',\n",
       " '02_-_Yer_Blues.jams',\n",
       " \"01_-_Sgt._Pepper's_Lonely_Hearts_Club_Band.jams\",\n",
       " \"09_-_When_I'm_Sixty-Four.jams\",\n",
       " '08_-_Within_You_Without_You.jams',\n",
       " '05_-_Fixing_A_Hole.jams',\n",
       " '04_-_Getting_Better.jams',\n",
       " \"06_-_She's_Leaving_Home.jams\",\n",
       " '03_-_Lucy_In_The_Sky_With_Diamonds.jams',\n",
       " \"12_-_Sgt._Pepper's_Lonely_Hearts_Club_Band_(Reprise).jams\",\n",
       " '10_-_Lovely_Rita.jams',\n",
       " '07_-_Being_For_The_Benefit_Of_Mr._Kite!.jams',\n",
       " '11_-_Good_Morning_Good_Morning.jams',\n",
       " '02_-_With_A_Little_Help_From_My_Friends.jams',\n",
       " '13_-_A_Day_In_The_Life.jams',\n",
       " '08_-_Any_Time_At_All.jams',\n",
       " \"12_-_You_Can't_Do_That.jams\",\n",
       " '10_-_Things_We_Said_Today.jams',\n",
       " '06_-_Tell_Me_Why.jams',\n",
       " '03_-_If_I_Fell.jams',\n",
       " '02_-_I_Should_Have_Known_Better.jams',\n",
       " \"07_-_Can't_Buy_Me_Love.jams\",\n",
       " \"01_-_A_Hard_Day's_Night.jams\",\n",
       " '11_-_When_I_Get_Home.jams',\n",
       " \"09_-_I'll_Cry_Instead.jams\",\n",
       " \"13_-_I'll_Be_Back.jams\",\n",
       " \"04_-_I'm_Happy_Just_To_Dance_With_You.jams\",\n",
       " '05_-_And_I_Love_Her.jams',\n",
       " '12_-_I_Want_To_Tell_You.jams',\n",
       " '08_-_Good_Day_Sunshine.jams',\n",
       " '06_-_Yellow_Submarine.jams',\n",
       " '13_-_Got_To_Get_You_Into_My_Life.jams',\n",
       " '11_-_Doctor_Robert.jams',\n",
       " '05_-_Here,_There_And_Everywhere.jams',\n",
       " '10_-_For_No_One.jams',\n",
       " '09_-_And_Your_Bird_Can_Sing.jams',\n",
       " '14_-_Tomorrow_Never_Knows.jams',\n",
       " '01_-_Taxman.jams',\n",
       " '04_-_Love_You_To.jams',\n",
       " '07_-_She_Said_She_Said.jams',\n",
       " \"03_-_I'm_Only_Sleeping.jams\",\n",
       " '02_-_Eleanor_Rigby.jams',\n",
       " '02_-_Misery.jams',\n",
       " '07_-_Please_Please_Me.jams',\n",
       " '03_-_Anna_(Go_To_Him).jams',\n",
       " \"13_-_There's_A_Place.jams\",\n",
       " \"10_-_Baby_It's_You.jams\",\n",
       " '05_-_Boys.jams',\n",
       " '06_-_Ask_Me_Why.jams',\n",
       " '08_-_Love_Me_Do.jams',\n",
       " '12_-_A_Taste_Of_Honey.jams',\n",
       " '04_-_Chains.jams',\n",
       " '14_-_Twist_And_Shout.jams',\n",
       " '09_-_P._S._I_Love_You.jams',\n",
       " '11_-_Do_You_Want_To_Know_A_Secret.jams',\n",
       " '01_-_I_Saw_Her_Standing_There.jams',\n",
       " '13_-_She_Came_In_Trough_The_Bathroom_Window.jams',\n",
       " '14_-_Dizzy_Miss_Lizzie.jams',\n",
       " \"06_-_You're_Going_to_Lose_That_Girl.jams\",\n",
       " '06_-The_Continuing_Story_of_Bungalow_Bill.jams',\n",
       " \"04_-_Everybody's_Got_Something_To_Hide_Except_Me_and_M.jams\"]"
      ]
     },
     "execution_count": 19,
     "metadata": {},
     "output_type": "execute_result"
    }
   ],
   "source": [
    "tut_files"
   ]
  },
  {
   "cell_type": "code",
   "execution_count": 20,
   "metadata": {},
   "outputs": [],
   "source": [
    "for i in [9,8,4,3,2]:\n",
    "    iso_files_2_match.pop(i)"
   ]
  },
  {
   "cell_type": "code",
   "execution_count": 21,
   "metadata": {},
   "outputs": [
    {
     "data": {
      "text/plain": [
       "['11_-_Abbey_Road/16_-_The_End.jams',\n",
       " '11_-_Abbey_Road/09_-_You_Never_Give_Me_Your_Money.jams',\n",
       " '10CD1_-_The_Beatles/CD1_-_08_-_Happiness_is_a_Warm_Gun.jams',\n",
       " '10CD1_-_The_Beatles/CD1_-_05_-_Wild_Honey_Pie.jams',\n",
       " '10CD1_-_The_Beatles/CD1_-_06_-_The_Continuing_Story_of_Bungalow_Bill.jams',\n",
       " '10CD2_-_The_Beatles/CD2_-_12_-_Revolution_9.jams']"
      ]
     },
     "execution_count": 21,
     "metadata": {},
     "output_type": "execute_result"
    }
   ],
   "source": [
    "iso_files_2_match"
   ]
  },
  {
   "cell_type": "markdown",
   "metadata": {},
   "source": [
    "### Saving the results\n",
    "\n",
    "Create two files from our lists. "
   ]
  },
  {
   "cell_type": "code",
   "execution_count": 22,
   "metadata": {},
   "outputs": [],
   "source": [
    "save_dir = \"/Users/kkinnaird/Documents/Research/R-Music/Brian-AHE/\" \n",
    "numpy.savetxt(\"iso_file_list.csv\", iso_files, fmt=\"%s\", delimiter=\",\")\n",
    "numpy.savetxt(\"tut_file_list.csv\", tut_files, fmt=\"%s\")"
   ]
  },
  {
   "cell_type": "code",
   "execution_count": null,
   "metadata": {},
   "outputs": [],
   "source": [
    "# had to make edits to the file due to \",\" in 3 titles"
   ]
  }
 ],
 "metadata": {
  "kernelspec": {
   "display_name": "Python 3",
   "language": "python",
   "name": "python3"
  },
  "language_info": {
   "codemirror_mode": {
    "name": "ipython",
    "version": 3
   },
   "file_extension": ".py",
   "mimetype": "text/x-python",
   "name": "python",
   "nbconvert_exporter": "python",
   "pygments_lexer": "ipython3",
   "version": "3.7.3"
  }
 },
 "nbformat": 4,
 "nbformat_minor": 2
}
